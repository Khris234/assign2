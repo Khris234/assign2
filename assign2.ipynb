{
 "cells": [
  {
   "cell_type": "code",
   "execution_count": 2,
   "id": "dfdb574d",
   "metadata": {},
   "outputs": [
    {
     "ename": "SyntaxError",
     "evalue": "invalid syntax (1296961644.py, line 1)",
     "output_type": "error",
     "traceback": [
      "\u001b[1;36m  Cell \u001b[1;32mIn[2], line 1\u001b[1;36m\u001b[0m\n\u001b[1;33m    6 days  = 100\u001b[0m\n\u001b[1;37m      ^\u001b[0m\n\u001b[1;31mSyntaxError\u001b[0m\u001b[1;31m:\u001b[0m invalid syntax\n"
     ]
    }
   ],
   "source": [
    "6 days  = 100\n",
    "4 weeks = 6 days*4\n",
    "print(4 weeks)"
   ]
  },
  {
   "cell_type": "code",
   "execution_count": 4,
   "id": "a5b3b7a2",
   "metadata": {},
   "outputs": [
    {
     "name": "stdout",
     "output_type": "stream",
     "text": [
      "enter the amount of fuel consumed in 6 days :100\n",
      "400 liters of fuel consumed in 4 weeks\n",
      "1200 liters of fuel consumed in 3 months \n"
     ]
    }
   ],
   "source": [
    "a= input('enter the amount of fuel consumed in 6 days :')\n",
    "b=int (a)*int (4)\n",
    "print(b, 'liters of fuel consumed in 4 weeks')\n",
    "c=int(b)*int(3)\n",
    "print(c, 'liters of fuel consumed in 3 months ')"
   ]
  }
 ],
 "metadata": {
  "kernelspec": {
   "display_name": "Python 3 (ipykernel)",
   "language": "python",
   "name": "python3"
  },
  "language_info": {
   "codemirror_mode": {
    "name": "ipython",
    "version": 3
   },
   "file_extension": ".py",
   "mimetype": "text/x-python",
   "name": "python",
   "nbconvert_exporter": "python",
   "pygments_lexer": "ipython3",
   "version": "3.11.1"
  }
 },
 "nbformat": 4,
 "nbformat_minor": 5
}
